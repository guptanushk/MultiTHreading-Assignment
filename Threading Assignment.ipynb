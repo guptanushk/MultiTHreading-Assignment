{
 "cells": [
  {
   "cell_type": "markdown",
   "id": "8c1e0160-47dc-48d6-bd80-14b93a4fb38e",
   "metadata": {},
   "source": [
    "Q1. What is multithreading in python? Why is it used? Name the module used to handle threads in python."
   ]
  },
  {
   "cell_type": "markdown",
   "id": "db822861-739a-4b4b-be16-59ac16224833",
   "metadata": {},
   "source": [
    "Answer : A thread is a unit of execution within a process. Multithreading refers to concurrently executing multipl threads by rapidly switching the control of the CPU between threads.\n",
    "\n",
    "It is used to call a function as many times we want in a one go ad not to call it one by one.\n",
    "\n",
    "The module which is used to handle threads in python is threading."
   ]
  },
  {
   "cell_type": "markdown",
   "id": "128b0014-6eb9-4543-8982-e90be47638f1",
   "metadata": {},
   "source": [
    "Q2. Why threading module used? Write the use of the following functions:\n",
    "1. activeCount()\n",
    "2. currentThread()\n",
    "3. enumerate()"
   ]
  },
  {
   "cell_type": "markdown",
   "id": "06db0338-7546-4390-8fdb-7d92aeb12352",
   "metadata": {},
   "source": [
    "Answer : Python threading allows you to have different parts of your program run concurrently and can simplify your design.\n",
    "\n",
    "THe active Count() method of Thread Group class is used to return the number of active threads in the current thread's thread group.\n",
    "\n",
    "The currentThread() method of thread class is used to return a reference to the currently executing thread object.\n",
    "\n",
    "The enumerate() method that allows you to iterate through a sequence and keep track of the index of each element."
   ]
  },
  {
   "cell_type": "markdown",
   "id": "38459dcd-894a-493e-b3b3-4f1a0695fc77",
   "metadata": {},
   "source": [
    "Q3. Explain the following functions\n",
    "1. run()\n",
    "2. start()\n",
    "3. join()\n",
    "4. isAlive()"
   ]
  },
  {
   "cell_type": "markdown",
   "id": "785adf20-7e73-47ea-a89b-2961fcd62481",
   "metadata": {},
   "source": [
    "Answer : \n",
    "The run() method executes any target function belonging to a given thread object that is now active. It normally executes in the background after the start() method is invoked.\n",
    "\n",
    "start() method is an inbuilt method of the Thread class of the threading module, it is used to start a thread's activity. This method calls the run() method internally which then executes the target method. This method must be called at most one time for one thread.\n",
    "\n",
    "Join in Python is an in-built method used to join an iterable's elements, separated by a string separator, which is specified by you. Thus, whenever you want to join the elements of an iterable and make it a string, you can use the string join in Python.\n",
    "\n",
    "is_alive() method returns True if the thread is still running and False , otherwise."
   ]
  },
  {
   "cell_type": "markdown",
   "id": "99ac9167-dca1-4a56-8f61-373d0c761be3",
   "metadata": {},
   "source": [
    "Q4.Write a python program to create two threads. Thread one must print the list of squares and thread two must print the list of cubes"
   ]
  },
  {
   "cell_type": "markdown",
   "id": "1ad83f16-a5f4-4df2-b6e7-5b6e8e579a2b",
   "metadata": {},
   "source": [
    "Answer : "
   ]
  },
  {
   "cell_type": "code",
   "execution_count": 6,
   "id": "376553e0-468d-43eb-92fc-fbac832dcda8",
   "metadata": {},
   "outputs": [
    {
     "name": "stdout",
     "output_type": "stream",
     "text": [
      "[0] [0]\n",
      "[0, 1] [0, 1]\n",
      "[0, 1, 4] [0, 1, 8]\n",
      "[0, 1, 4, 9] [0, 1, 8, 27]\n",
      "[0, 1, 4, 9, 16] [0, 1, 8, 27, 64]\n",
      "[0, 1, 4, 9, 16, 25] [0, 1, 8, 27, 64, 125]\n",
      "[0, 1, 4, 9, 16, 25, 36] [0, 1, 8, 27, 64, 125, 216]\n",
      "[0, 1, 4, 9, 16, 25, 36, 49] [0, 1, 8, 27, 64, 125, 216, 343]\n",
      "[0, 1, 4, 9, 16, 25, 36, 49, 64] [0, 1, 8, 27, 64, 125, 216, 343, 512]\n",
      "[0, 1, 4, 9, 16, 25, 36, 49, 64, 81] [0, 1, 8, 27, 64, 125, 216, 343, 512, 729]\n"
     ]
    }
   ],
   "source": [
    "import threading\n",
    "l1 = []\n",
    "l2 = []\n",
    "def number(num):\n",
    "    l1.append(num*num)\n",
    "    l2.append(num*num*num)\n",
    "    print (l1,l2)\n",
    "    \n",
    "thread  = [threading.Thread(target = number,args = (i,))for i in range(10)]\n",
    "for t in thread :\n",
    "    t.start()"
   ]
  },
  {
   "cell_type": "markdown",
   "id": "84e81b57-c0de-4f53-a28c-13679fd81218",
   "metadata": {},
   "source": [
    "Q5. State advantages and disadvantages of multithreading"
   ]
  },
  {
   "cell_type": "markdown",
   "id": "e80e141f-e6da-4c11-8389-894954871583",
   "metadata": {},
   "source": [
    "Answer : Following are some of the common advantages of multithreading:\n",
    "\n",
    "*Enhanced performance by decreased development time.\n",
    "*Simplified and streamlined program coding.\n",
    "*Improvised GUI responsiveness.\n",
    "*Simultaneous and parallelized occurrence of tasks.\n",
    "*Better use of cache storage by utilization of resources.\n",
    "*Decreased cost of maintenance."
   ]
  },
  {
   "cell_type": "markdown",
   "id": "271bf18e-5ad0-4587-bb6f-c43a525d5637",
   "metadata": {},
   "source": [
    "Q6. Explain deadlocks and race conditions."
   ]
  },
  {
   "cell_type": "markdown",
   "id": "72a1cbd2-a942-4825-980e-bf3f107099f0",
   "metadata": {},
   "source": [
    "Answer : Race Condition And Deadlock\n",
    "\n",
    "A race condition occurs when two threads use the same variable at a given time. Deadlock exists when two threads seek one lock simultaneously. This situation will stop both threads from processing or executing the functions."
   ]
  },
  {
   "cell_type": "code",
   "execution_count": null,
   "id": "615560b5-4833-443f-ae35-32ab952a784e",
   "metadata": {},
   "outputs": [],
   "source": []
  }
 ],
 "metadata": {
  "kernelspec": {
   "display_name": "Python 3 (ipykernel)",
   "language": "python",
   "name": "python3"
  },
  "language_info": {
   "codemirror_mode": {
    "name": "ipython",
    "version": 3
   },
   "file_extension": ".py",
   "mimetype": "text/x-python",
   "name": "python",
   "nbconvert_exporter": "python",
   "pygments_lexer": "ipython3",
   "version": "3.10.8"
  }
 },
 "nbformat": 4,
 "nbformat_minor": 5
}
